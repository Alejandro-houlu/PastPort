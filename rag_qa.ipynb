{
 "cells": [
  {
   "cell_type": "code",
   "execution_count": null,
   "id": "d22316d8-5625-4b09-a475-e54d6ef248b8",
   "metadata": {},
   "outputs": [],
   "source": [
    "from langchain_ollama import OllamaEmbeddings\n",
    "from langchain_chroma import Chroma\n",
    "# https://python.langchain.com/api_reference/community/vectorstores/langchain_community.vectorstores.chroma.Chroma.html\n",
    "\n",
    "def get_embeddings():\n",
    "    return OllamaEmbeddings(model=\"nomic-embed-text\")\n",
    "\n",
    "vdb = Chroma(collection_name=\"lkchm_collection\", embedding_function=get_embeddings(), persist_directory=\"./chroma_langchain_db\")\n",
    "vdb.get()\n",
    "\n"
   ]
  },
  {
   "cell_type": "code",
   "execution_count": null,
   "id": "491b4844-56ca-4d60-91b0-47b0b86ff846",
   "metadata": {},
   "outputs": [],
   "source": [
    "import pandas as pd\n",
    "\n",
    "\n",
    "## read CSV\n",
    "## scrap species and list of question\n",
    "## vdb search take 5? or top1?\n",
    "## scrap our answer, cosine sim?\n",
    "\n",
    "\n",
    "results = vdb.similarity_search_with_score(\n",
    "    \"what do sauropods eat\",\n",
    "    k=5,\n",
    "    # filter={\"source\": \"tweet\"},\n",
    ")\n",
    "results = sorted(results, key=lambda x: x[1], reverse=True)\n",
    "results"
   ]
  }
 ],
 "metadata": {
  "kernelspec": {
   "display_name": "Python 3 (ipykernel)",
   "language": "python",
   "name": "python3"
  },
  "language_info": {
   "codemirror_mode": {
    "name": "ipython",
    "version": 3
   },
   "file_extension": ".py",
   "mimetype": "text/x-python",
   "name": "python",
   "nbconvert_exporter": "python",
   "pygments_lexer": "ipython3",
   "version": "3.10.0"
  }
 },
 "nbformat": 4,
 "nbformat_minor": 5
}
